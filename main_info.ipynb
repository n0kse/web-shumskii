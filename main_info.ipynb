{
 "cells": [
  {
   "cell_type": "markdown",
   "id": "6e225f03-36dc-4eb3-8a08-3645b179c619",
   "metadata": {},
   "source": [
    "# Шумский Иван Николаевич\n",
    "###### 18.02.2004, Москва\n",
    "#### Стажер отдела контекстной рекламы\n",
    "\n",
    "\n",
    "\n",
    "##### t: +7(977)110-03-18\n",
    "##### e: shumskiiIN@yandex.ru"
   ]
  },
  {
   "cell_type": "markdown",
   "id": "45a21837-284e-4cdc-aca3-bfea6d62c371",
   "metadata": {},
   "source": [
    "![avatar](https://avatars.mds.yandex.net/get-yapic/49368/OcHpe9rzTGjBFsfmv2Q3PgCgVY-1/islands-200)"
   ]
  },
  {
   "cell_type": "markdown",
   "id": "25f78c0a-84b0-44bc-b2f6-0b6d33cd0cf2",
   "metadata": {},
   "source": [
    "$$ Y(x) =\\frac{\\sum_{i=1}^{n}\\sum_{j = 1}^{m} g_{i}^{2}x_{j}}{\\sqrt{\\frac{\\overline{g}}{w^{2}}}} $$"
   ]
  },
  {
   "cell_type": "code",
   "execution_count": null,
   "id": "1bf5be6f-d6ad-4f6f-b990-c34b9d7cc372",
   "metadata": {},
   "outputs": [],
   "source": []
  }
 ],
 "metadata": {
  "kernelspec": {
   "display_name": "Python 3 (ipykernel)",
   "language": "python",
   "name": "python3"
  },
  "language_info": {
   "codemirror_mode": {
    "name": "ipython",
    "version": 3
   },
   "file_extension": ".py",
   "mimetype": "text/x-python",
   "name": "python",
   "nbconvert_exporter": "python",
   "pygments_lexer": "ipython3",
   "version": "3.12.1"
  }
 },
 "nbformat": 4,
 "nbformat_minor": 5
}
